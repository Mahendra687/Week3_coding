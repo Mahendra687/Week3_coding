{
  "cells": [
    {
      "cell_type": "markdown",
      "source": [
        "# Week 3 SA"
      ],
      "metadata": {
        "datalore": {
          "node_id": "zGa7mCHaDDruHtkm7dEPtv",
          "type": "MD",
          "hide_input_from_viewers": true,
          "hide_output_from_viewers": true
        },
        "id": "A_I7hY__VTGb"
      }
    },
    {
      "cell_type": "markdown",
      "source": [
        "Hey Everyone!!\n",
        "We hope that you are excited to apply your newly acquired knowledge and test it on this notebook.\n",
        "In this assignment, we will be walking through creating an email classifier based the content the mail has."
      ],
      "metadata": {
        "datalore": {
          "node_id": "U1ZcRPN3LUr8T0AFox9HNj",
          "type": "MD",
          "hide_input_from_viewers": true,
          "hide_output_from_viewers": true
        },
        "id": "GjUKqeO7VTGi"
      }
    },
    {
      "cell_type": "markdown",
      "source": [
        "## About the data"
      ],
      "metadata": {
        "datalore": {
          "node_id": "z4auZFCdOYmoX3bMIniLkV",
          "type": "MD",
          "hide_input_from_viewers": true,
          "hide_output_from_viewers": true
        },
        "id": "zTcW7qtTVTGi"
      }
    },
    {
      "cell_type": "markdown",
      "source": [
        "The data \"email.csv\" has a few rows and about 3K columns including <b>Email_no.</b> and <b>spam</b>. <br>\n",
        "Email_no. is like a unique id for an email and spam denotes whether the given mail is a spam or not (0 = not spam, 1 = spam)<br>\n",
        "Rest of the columns are words in english with the values being equal to the frequency of that word in the email.\n",
        "<br>Our goal is to predict whether the given mail is spam or not"
      ],
      "metadata": {
        "datalore": {
          "node_id": "oqqW6dUiQklEDKoCWXWv5O",
          "type": "MD",
          "hide_input_from_viewers": true,
          "hide_output_from_viewers": true
        },
        "id": "Day9Il5CVTGj"
      }
    },
    {
      "cell_type": "markdown",
      "source": [
        "## Importing useful libraries"
      ],
      "metadata": {
        "datalore": {
          "node_id": "JAyWVZVGuGxuIiAHDsq61b",
          "type": "MD",
          "hide_input_from_viewers": true,
          "hide_output_from_viewers": true
        },
        "id": "8f2gmPRlVTGj"
      }
    },
    {
      "cell_type": "code",
      "source": [
        "import pandas as pd\n",
        "import numpy as np"
      ],
      "execution_count": 3,
      "outputs": [],
      "metadata": {
        "datalore": {
          "node_id": "MGF6Kw4xf8SePOYMc0lIF1",
          "type": "CODE",
          "hide_input_from_viewers": true,
          "hide_output_from_viewers": true
        },
        "id": "SM0bKj1uVTGj"
      }
    },
    {
      "cell_type": "markdown",
      "source": [
        "## Loading the data\n",
        "### If you are using Datalore, you may use the csv file directly. Otherwise you may download it from <a href = \"https://drive.google.com/file/d/1OxJ6SSuPypg-AfLbMRl0O9So9aDDNzbC/view?usp=sharing\">this link</a>"
      ],
      "metadata": {
        "datalore": {
          "node_id": "8QlDKKKCWpgnkoXHPYswvd",
          "type": "MD",
          "hide_input_from_viewers": true,
          "hide_output_from_viewers": true
        },
        "id": "vyIhp4smVTGk"
      }
    },
    {
      "cell_type": "code",
      "source": [
        "df = pd.read_csv('emails.csv')"
      ],
      "execution_count": 4,
      "outputs": [],
      "metadata": {
        "datalore": {
          "node_id": "awQRzUu3t4PZmOtlTbPn44",
          "type": "CODE",
          "hide_input_from_viewers": true,
          "hide_output_from_viewers": true
        },
        "id": "iikClUdNVTGk"
      }
    },
    {
      "cell_type": "markdown",
      "source": [
        "## Describe the data and generate some basic insights unsing methods like .info"
      ],
      "metadata": {
        "datalore": {
          "node_id": "ex2R3oVXRwyZaziX9HkcGp",
          "type": "MD",
          "hide_input_from_viewers": true,
          "hide_output_from_viewers": true
        },
        "id": "YVcw-6GQVTGl"
      }
    },
    {
      "cell_type": "code",
      "source": [
        "df.head()"
      ],
      "execution_count": null,
      "outputs": [
        {
          "data": {
            "text/html": [
              "<div>\n",
              "<style scoped>\n",
              "    .dataframe tbody tr th:only-of-type {\n",
              "        vertical-align: middle;\n",
              "    }\n",
              "\n",
              "    .dataframe tbody tr th {\n",
              "        vertical-align: top;\n",
              "    }\n",
              "\n",
              "    .dataframe thead th {\n",
              "        text-align: right;\n",
              "    }\n",
              "</style>\n",
              "<table border=\"1\" class=\"dataframe\">\n",
              "  <thead>\n",
              "    <tr style=\"text-align: right;\">\n",
              "      <th></th>\n",
              "      <th>Email No.</th>\n",
              "      <th>the</th>\n",
              "      <th>to</th>\n",
              "      <th>ect</th>\n",
              "      <th>and</th>\n",
              "      <th>for</th>\n",
              "      <th>of</th>\n",
              "      <th>a</th>\n",
              "      <th>you</th>\n",
              "      <th>hou</th>\n",
              "      <th>...</th>\n",
              "      <th>connevey</th>\n",
              "      <th>jay</th>\n",
              "      <th>valued</th>\n",
              "      <th>lay</th>\n",
              "      <th>infrastructure</th>\n",
              "      <th>military</th>\n",
              "      <th>allowing</th>\n",
              "      <th>ff</th>\n",
              "      <th>dry</th>\n",
              "      <th>Prediction</th>\n",
              "    </tr>\n",
              "  </thead>\n",
              "  <tbody>\n",
              "    <tr>\n",
              "      <th>0</th>\n",
              "      <td>Email 1</td>\n",
              "      <td>0</td>\n",
              "      <td>0</td>\n",
              "      <td>1</td>\n",
              "      <td>0</td>\n",
              "      <td>0</td>\n",
              "      <td>0</td>\n",
              "      <td>2</td>\n",
              "      <td>0</td>\n",
              "      <td>0</td>\n",
              "      <td>...</td>\n",
              "      <td>0</td>\n",
              "      <td>0</td>\n",
              "      <td>0</td>\n",
              "      <td>0</td>\n",
              "      <td>0</td>\n",
              "      <td>0</td>\n",
              "      <td>0</td>\n",
              "      <td>0</td>\n",
              "      <td>0</td>\n",
              "      <td>0</td>\n",
              "    </tr>\n",
              "    <tr>\n",
              "      <th>1</th>\n",
              "      <td>Email 2</td>\n",
              "      <td>8</td>\n",
              "      <td>13</td>\n",
              "      <td>24</td>\n",
              "      <td>6</td>\n",
              "      <td>6</td>\n",
              "      <td>2</td>\n",
              "      <td>102</td>\n",
              "      <td>1</td>\n",
              "      <td>27</td>\n",
              "      <td>...</td>\n",
              "      <td>0</td>\n",
              "      <td>0</td>\n",
              "      <td>0</td>\n",
              "      <td>0</td>\n",
              "      <td>0</td>\n",
              "      <td>0</td>\n",
              "      <td>0</td>\n",
              "      <td>1</td>\n",
              "      <td>0</td>\n",
              "      <td>0</td>\n",
              "    </tr>\n",
              "    <tr>\n",
              "      <th>2</th>\n",
              "      <td>Email 3</td>\n",
              "      <td>0</td>\n",
              "      <td>0</td>\n",
              "      <td>1</td>\n",
              "      <td>0</td>\n",
              "      <td>0</td>\n",
              "      <td>0</td>\n",
              "      <td>8</td>\n",
              "      <td>0</td>\n",
              "      <td>0</td>\n",
              "      <td>...</td>\n",
              "      <td>0</td>\n",
              "      <td>0</td>\n",
              "      <td>0</td>\n",
              "      <td>0</td>\n",
              "      <td>0</td>\n",
              "      <td>0</td>\n",
              "      <td>0</td>\n",
              "      <td>0</td>\n",
              "      <td>0</td>\n",
              "      <td>0</td>\n",
              "    </tr>\n",
              "    <tr>\n",
              "      <th>3</th>\n",
              "      <td>Email 4</td>\n",
              "      <td>0</td>\n",
              "      <td>5</td>\n",
              "      <td>22</td>\n",
              "      <td>0</td>\n",
              "      <td>5</td>\n",
              "      <td>1</td>\n",
              "      <td>51</td>\n",
              "      <td>2</td>\n",
              "      <td>10</td>\n",
              "      <td>...</td>\n",
              "      <td>0</td>\n",
              "      <td>0</td>\n",
              "      <td>0</td>\n",
              "      <td>0</td>\n",
              "      <td>0</td>\n",
              "      <td>0</td>\n",
              "      <td>0</td>\n",
              "      <td>0</td>\n",
              "      <td>0</td>\n",
              "      <td>0</td>\n",
              "    </tr>\n",
              "    <tr>\n",
              "      <th>4</th>\n",
              "      <td>Email 5</td>\n",
              "      <td>7</td>\n",
              "      <td>6</td>\n",
              "      <td>17</td>\n",
              "      <td>1</td>\n",
              "      <td>5</td>\n",
              "      <td>2</td>\n",
              "      <td>57</td>\n",
              "      <td>0</td>\n",
              "      <td>9</td>\n",
              "      <td>...</td>\n",
              "      <td>0</td>\n",
              "      <td>0</td>\n",
              "      <td>0</td>\n",
              "      <td>0</td>\n",
              "      <td>0</td>\n",
              "      <td>0</td>\n",
              "      <td>0</td>\n",
              "      <td>1</td>\n",
              "      <td>0</td>\n",
              "      <td>0</td>\n",
              "    </tr>\n",
              "  </tbody>\n",
              "</table>\n",
              "<p>5 rows × 3002 columns</p>\n",
              "</div>"
            ]
          },
          "metadata": {},
          "output_type": "display_data"
        }
      ],
      "metadata": {
        "datalore": {
          "node_id": "yfyNpm25jyzCNCFOWtDwlM",
          "type": "CODE",
          "hide_input_from_viewers": true,
          "hide_output_from_viewers": true
        },
        "id": "BZC4Ib0WVTGl",
        "outputId": "16e7f320-cc9a-4499-dafc-1ee040cf55b3"
      }
    },
    {
      "cell_type": "markdown",
      "source": [
        "## Looking at the data"
      ],
      "metadata": {
        "datalore": {
          "node_id": "zvjpKUkrIVkahpty2eoRva",
          "type": "MD",
          "hide_input_from_viewers": true,
          "hide_output_from_viewers": true
        },
        "id": "_p5ZwkRjVTGm"
      }
    },
    {
      "cell_type": "code",
      "source": [
        "# Plot histogram to visualize the top 5 common words in spam mail and non-spam mails seperately.\n",
        "# Plot histogram to visualize the top 5 common words in spam mail and non-spam mails seperately.\n",
        "spam_df = df[df[\"spam\"] == 1]\n",
        "non_spam_df = df[df[\"spam\"] == 0]\n",
        "\n",
        "\n",
        "spam_word_freq = spam_df.drop(['Email No.',\"spam\"], axis=1).sum()\n",
        "non_spam_word_freq = non_spam_df.drop(['Email No.',\"spam\"], axis=1).sum()\n",
        "\n",
        "\n",
        "\n",
        "top_spam_words = spam_word_freq.sort_values(ascending=False).head(5)\n",
        "top_non_spam_words = non_spam_word_freq.sort_values(ascending=False).head(5)\n",
        "\n",
        "\n",
        "plt.figure(figsize=(10, 5))\n",
        "\n",
        "plt.subplot(1, 2, 1)\n",
        "top_spam_words.plot(kind='bar', color = \"lightgreen\")\n",
        "plt.title('Top 5 Common Words in Spam Emails')\n",
        "plt.xlabel('Words')\n",
        "plt.ylabel('Frequency')\n",
        "\n",
        "plt.subplot(1, 2, 2)\n",
        "top_non_spam_words.plot(kind='bar',color = \"lightblue\")\n",
        "plt.title('Top 5 Common Words in Non-Spam Emails')\n",
        "plt.xlabel('Words')\n",
        "plt.ylabel('Frequency')\n",
        "\n",
        "plt.tight_layout()\n",
        "plt.show()"
      ],
      "execution_count": null,
      "outputs": [
        {
          "output_type": "display_data",
          "data": {
            "text/plain": [
              "<Figure size 1000x500 with 2 Axes>"
            ],
            "image/png": "[encoded data removed]"
          },
          "metadata": {}
        }
      ],
      "metadata": {
        "datalore": {
          "node_id": "CFY6hpEHnTNc05xveVXitg",
          "type": "CODE",
          "hide_input_from_viewers": true,
          "hide_output_from_viewers": true
        },
        "id": "BbJj_yzOVTGm",
        "outputId": "fcc76d5e-2f6d-4f80-85c8-9eb208afdc28",
        "colab": {
          "base_uri": "https://localhost:8080/",
          "height": 507
        }
      }
    },
    {
      "cell_type": "markdown",
      "source": [
        "## Figuring out some comparatively more important features"
      ],
      "metadata": {
        "datalore": {
          "node_id": "C3PCd8f8vDpy1xh1S0jLnr",
          "type": "MD",
          "hide_input_from_viewers": true,
          "hide_output_from_viewers": true
        },
        "id": "LefZmOVJVTGm"
      }
    },
    {
      "cell_type": "code",
      "source": [
        "row_count = df.shape[0]\n",
        "colunm_count = df.shape[1]\n",
        "print(\"Number of rows:\", row_count)\n",
        "print(\"Number of column:\", colunm_count)"
      ],
      "metadata": {
        "id": "DaPw2N7_XLIT",
        "outputId": "00f5d30c-9594-466e-9d4f-61d6b482f898",
        "colab": {
          "base_uri": "https://localhost:8080/"
        }
      },
      "execution_count": null,
      "outputs": [
        {
          "output_type": "stream",
          "name": "stdout",
          "text": [
            "Number of rows: 5172\n",
            "Number of column: 3002\n"
          ]
        }
      ]
    },
    {
      "cell_type": "code",
      "source": [
        "for column_name in df.columns:\n",
        "    print(column_name)"
      ],
      "metadata": {
        "id": "G2udwjOMIssX"
      },
      "execution_count": null,
      "outputs": []
    },
    {
      "cell_type": "code",
      "source": [
        "# There are 3K rows given in this dataset, can you think of some method to reduce the number of columns in the dataset?\n",
        "# Try taking only top 1.5K that will comprise of some of the most \"deciding factors\"\n",
        "\n",
        "from sklearn.feature_selection import SelectKBest, f_regression\n",
        "from sklearn.feature_selection import SelectKBest, f_classif\n",
        "from sklearn.compose import ColumnTransformer\n",
        "from sklearn.preprocessing import OneHotEncoder\n",
        "\n",
        "# Separate the features and the target variable\n",
        "X = df.drop(['Email No.', 'spam'], axis=1)  # Remove non-feature columns (Email_No. and spam)\n",
        "y = df['spam']\n",
        "\n",
        "# Perform feature selection\n",
        "num_columns_to_keep = 1500\n",
        "selector = SelectKBest(score_func=f_classif, k=num_columns_to_keep)\n",
        "X_selected = selector.fit_transform(X, y)\n",
        "\n",
        "# Get the selected column indices\n",
        "selected_indices = selector.get_support(indices=True)\n",
        "\n",
        "# Get the selected column names\n",
        "selected_columns = X.columns[selected_indices]\n",
        "\n",
        "# Create a new DataFrame with the selected columns\n",
        "df_selected = df[['Email No.', 'spam']].join(pd.DataFrame(X_selected, columns=selected_columns))\n",
        "\n",
        "# Optional: Save the new DataFrame to a new CSV file\n",
        "df_selected.to_csv('reduced_email.csv', index=False)"
      ],
      "execution_count": 15,
      "outputs": [],
      "metadata": {
        "datalore": {
          "node_id": "2ZKzjK3mKBGSfxz73JEBVF",
          "type": "CODE",
          "hide_input_from_viewers": true,
          "hide_output_from_viewers": true
        },
        "id": "dXYp-C-7VTGm"
      }
    },
    {
      "cell_type": "code",
      "source": [
        "row_count = df_selected.shape[0]\n",
        "colunm_count = df_selected.shape[1]\n",
        "print(\"Number of rows:\", row_count)\n",
        "print(\"Number of column:\", colunm_count)"
      ],
      "metadata": {
        "colab": {
          "base_uri": "https://localhost:8080/"
        },
        "id": "6zQ760D8KJYm",
        "outputId": "86d081a7-c3d0-4deb-f05e-723f16ce3bc6"
      },
      "execution_count": 17,
      "outputs": [
        {
          "output_type": "stream",
          "name": "stdout",
          "text": [
            "Number of rows: 5172\n",
            "Number of column: 1502\n"
          ]
        }
      ]
    },
    {
      "cell_type": "markdown",
      "source": [
        "## Train - Test Split"
      ],
      "metadata": {
        "datalore": {
          "node_id": "5xGBoaQ3gyqscgTKblwyrX",
          "type": "MD",
          "hide_input_from_viewers": true,
          "hide_output_from_viewers": true
        },
        "id": "hb_-rpqcVTGm"
      }
    },
    {
      "cell_type": "code",
      "source": [
        "# Create trianing and testing data\n",
        "import pandas as pd\n",
        "from sklearn.model_selection import train_test_split\n",
        "\n",
        "# Load the reduced dataset\n",
        "df = pd.read_csv('reduced_email.csv')\n",
        "\n",
        "# Separate the features and the target variable\n",
        "X = df.drop(['Email No.', 'spam'], axis=1)  # Remove non-feature columns (Email_No. and spam)\n",
        "y = df['spam']\n",
        "\n",
        "# Split the data into training and testing sets\n",
        "test_size = 0.2  # 20% of the data will be used for testing\n",
        "random_state = 42  # Set a random seed for reproducibility\n",
        "X_train, X_test, y_train, y_test = train_test_split(X, y, test_size=test_size, random_state=random_state)\n",
        "\n",
        "# Optional: Print the shapes of the training and testing sets\n",
        "print(\"Training set shape:\", X_train.shape)\n",
        "print(\"Testing set shape:\", X_test.shape)"
      ],
      "execution_count": 28,
      "outputs": [
        {
          "output_type": "stream",
          "name": "stdout",
          "text": [
            "Training set shape: (4137, 1500)\n",
            "Testing set shape: (1035, 1500)\n"
          ]
        }
      ],
      "metadata": {
        "datalore": {
          "node_id": "DIQmF7EKujPfytxRg3YCI7",
          "type": "CODE",
          "hide_input_from_viewers": true,
          "hide_output_from_viewers": true
        },
        "id": "yfBCaIWPVTGm",
        "colab": {
          "base_uri": "https://localhost:8080/"
        },
        "outputId": "a8f33324-bbd6-4df7-ce8e-6e15e194c897"
      }
    },
    {
      "cell_type": "markdown",
      "source": [
        "## Making Predictions using Multinomial NB Classifier"
      ],
      "metadata": {
        "datalore": {
          "node_id": "UN8loYrBwgtFXUDewcXM17",
          "type": "MD",
          "hide_input_from_viewers": true,
          "hide_output_from_viewers": true
        },
        "id": "zqUi-KjDVTGm"
      }
    },
    {
      "cell_type": "code",
      "source": [
        "# Feed the train data into multinomial naive bias classifier\n",
        "from sklearn.naive_bayes import MultinomialNB\n",
        "classifier = MultinomialNB()\n",
        "classifier.fit(X_train, y_train)\n",
        "\n",
        "# Make predictions on the test set\n",
        "y_pred = classifier.predict(X_test)"
      ],
      "execution_count": 29,
      "outputs": [],
      "metadata": {
        "datalore": {
          "node_id": "6yp042arvwnqg0LGrmuWWV",
          "type": "CODE",
          "hide_input_from_viewers": true,
          "hide_output_from_viewers": true
        },
        "id": "tA67_EhCVTGn"
      }
    },
    {
      "cell_type": "code",
      "source": [
        "# Check the model's accuracy of test data and plot the ROC-AUC curve\n",
        "from sklearn.metrics import accuracy_score\n",
        "mnb_accuracy = accuracy_score(y_test, y_pred)\n",
        "print(\"Accuracy:\", mnb_accuracy)"
      ],
      "execution_count": 30,
      "outputs": [
        {
          "output_type": "stream",
          "name": "stdout",
          "text": [
            "Accuracy: 0.9623188405797102\n"
          ]
        }
      ],
      "metadata": {
        "datalore": {
          "node_id": "wtCFPWcgIz4aAXhzKV6wE8",
          "type": "CODE",
          "hide_input_from_viewers": true,
          "hide_output_from_viewers": true
        },
        "id": "_ePlCekxVTGn",
        "colab": {
          "base_uri": "https://localhost:8080/"
        },
        "outputId": "67533d2b-4a66-4da5-c6dd-86337a6e73cc"
      }
    },
    {
      "cell_type": "markdown",
      "source": [
        "## Plot the confusion Matrix"
      ],
      "metadata": {
        "datalore": {
          "node_id": "g6MfgE1AdZhjcc50qcKU1s",
          "type": "MD",
          "hide_input_from_viewers": true,
          "hide_output_from_viewers": true
        },
        "id": "8Gs2TJCwVTGn"
      }
    },
    {
      "cell_type": "code",
      "source": [
        "# Print Confusion Matrix using any 5 words of your choice with the column 'spam'\n",
        "from sklearn.metrics import accuracy_score, confusion_matrix\n",
        "words_of_choice = ['e', 'o', 't', 'a', 'r']  # Replace with your chosen words\n",
        "cm = confusion_matrix(y_test, y_pred)\n",
        "df_cm = pd.DataFrame(cm, index=['Actual Not Spam', 'Actual Spam'], columns=['Predicted Not Spam', 'Predicted Spam'])\n",
        "print(\"Confusion Matrix:\")\n",
        "print(df_cm)"
      ],
      "execution_count": 23,
      "outputs": [
        {
          "output_type": "stream",
          "name": "stdout",
          "text": [
            "Confusion Matrix:\n",
            "                 Predicted Not Spam  Predicted Spam\n",
            "Actual Not Spam                 988              36\n",
            "Actual Spam                       3               8\n"
          ]
        }
      ],
      "metadata": {
        "datalore": {
          "node_id": "tiAhIiHk0VOWiKcZY5FLXw",
          "type": "CODE",
          "hide_input_from_viewers": true,
          "hide_output_from_viewers": true
        },
        "id": "eiSjy5KeVTGn",
        "colab": {
          "base_uri": "https://localhost:8080/"
        },
        "outputId": "8b71ce13-3bcf-4d40-9ac9-63542cb2dff9"
      }
    },
    {
      "cell_type": "markdown",
      "source": [
        "## Trying out with SVMs"
      ],
      "metadata": {
        "datalore": {
          "node_id": "HF7SHfRsuivs31MT5QEdYU",
          "type": "MD",
          "hide_input_from_viewers": true,
          "hide_output_from_viewers": true
        },
        "id": "FS8CZEG8VTGn"
      }
    },
    {
      "cell_type": "code",
      "source": [
        "# Try using Support Vector Classifier (SVC) from scikit-learn\n",
        "# Apply similar processes as above through SVC i.e., Make prediction, check accuacy and plot confusion matrix\n",
        "import pandas as pd\n",
        "import matplotlib.pyplot as plt\n",
        "from sklearn.model_selection import train_test_split\n",
        "from sklearn.svm import SVC\n",
        "from sklearn.metrics import accuracy_score, confusion_matrix\n",
        "import seaborn as sns\n",
        "\n",
        "# Load the reduced dataset\n",
        "df = pd.read_csv('reduced_email.csv')\n",
        "\n",
        "# Separate the features and the target variable\n",
        "X = df.drop(['Email No.', 'spam'], axis=1)  # Remove non-feature columns (Email_No. and spam)\n",
        "y = df['spam']\n",
        "\n",
        "# Split the data into training and testing sets\n",
        "test_size = 0.2\n",
        "random_state = 42\n",
        "X_train, X_test, y_train, y_test = train_test_split(X, y, test_size=test_size, random_state=random_state)\n",
        "\n",
        "# Train the Support Vector Classifier\n",
        "classifier = SVC()\n",
        "classifier.fit(X_train, y_train)\n",
        "\n",
        "# Make predictions on the test set\n",
        "y_pred = classifier.predict(X_test)\n",
        "\n",
        "# Calculate the accuracy of the classifier\n",
        "svc_accuracy = accuracy_score(y_test, y_pred)\n",
        "print(\"Accuracy:\", svc_accuracy)\n",
        "\n",
        "# Plot the confusion matrix\n",
        "cm = confusion_matrix(y_test, y_pred)\n",
        "df_cm = pd.DataFrame(cm, index=['Actual Not Spam', 'Actual Spam'], columns=['Predicted Not Spam', 'Predicted Spam'])\n",
        "\n",
        "plt.figure(figsize=(8, 6))\n",
        "sns.heatmap(df_cm, annot=True, cmap='Blues', fmt='d')\n",
        "plt.title('Confusion Matrix')\n",
        "plt.xlabel('Predicted Label')\n",
        "plt.ylabel('True Label')\n",
        "plt.show()"
      ],
      "execution_count": 31,
      "outputs": [
        {
          "output_type": "stream",
          "name": "stdout",
          "text": [
            "Accuracy: 0.9893719806763285\n"
          ]
        },
        {
          "output_type": "display_data",
          "data": {
            "text/plain": [
              "<Figure size 800x600 with 2 Axes>"
            ],
            "image/png": "[encoded data removed]"
          },
          "metadata": {}
        }
      ],
      "metadata": {
        "datalore": {
          "node_id": "dharQLmMD4LOZurvenkdom",
          "type": "CODE",
          "hide_input_from_viewers": true,
          "hide_output_from_viewers": true
        },
        "id": "_XKjSDsKVTGn",
        "colab": {
          "base_uri": "https://localhost:8080/",
          "height": 581
        },
        "outputId": "00113760-b0ae-472d-bbc2-2c2fcdadabc6"
      }
    },
    {
      "cell_type": "markdown",
      "source": [
        "## Comparing the models"
      ],
      "metadata": {
        "datalore": {
          "node_id": "rDs3zZmLCuEMozF6sE4QdY",
          "type": "MD",
          "hide_input_from_viewers": true,
          "hide_output_from_viewers": true
        },
        "id": "jOqAAMRUVTGn"
      }
    },
    {
      "cell_type": "code",
      "source": [
        "# Which model performed better?\n",
        "# Can you suggest some reason for better performance of one model over the other?\n",
        "print(\"Accuracy of Multinomial Naive Bayes:\", mnb_accuracy)\n",
        "print(\"Accuracy of Support Vector Classifier:\", svc_accuracy)"
      ],
      "execution_count": 33,
      "outputs": [
        {
          "output_type": "stream",
          "name": "stdout",
          "text": [
            "Accuracy of Multinomial Naive Bayes: 0.9623188405797102\n",
            "Accuracy of Support Vector Classifier: 0.9893719806763285\n"
          ]
        }
      ],
      "metadata": {
        "datalore": {
          "node_id": "OXkV2RFBF1Ld7DQFVa6083",
          "type": "CODE",
          "hide_input_from_viewers": true,
          "hide_output_from_viewers": true
        },
        "id": "5WnFmWVLVTGn",
        "colab": {
          "base_uri": "https://localhost:8080/"
        },
        "outputId": "a8da9d1c-daca-4a79-b1e8-20c0ef29393c"
      }
    },
    {
      "cell_type": "markdown",
      "source": [
        "The model with a higher accuracy score is considered to have performed better in terms of classification accuracy.Here, **SVC** have higher accuracy score indicates that the model has made more correct predictions on the test set.as compare to MNB."
      ],
      "metadata": {
        "id": "bfjU9bT6ObM2"
      }
    },
    {
      "cell_type": "markdown",
      "source": [
        "## Bonus Question"
      ],
      "metadata": {
        "datalore": {
          "node_id": "ZaqRxhVmJPCcmG1rd2ksQs",
          "type": "MD",
          "hide_input_from_viewers": true,
          "hide_output_from_viewers": true
        },
        "id": "Wc8FUehcVTGn"
      }
    },
    {
      "cell_type": "code",
      "source": [
        "# Given a string. Try to create the dataset having each word of dataset as column and row values as the frequency of that word.\n",
        "# For example\n",
        "# s = \"I am a Python developer and currently working on a project to classify mails\"\n",
        "# dataframe = {\"I\" : 1,\n",
        "#              \"am\" :1,\n",
        "#              \"a\" : 2,\n",
        "#               ...}"
      ],
      "execution_count": null,
      "outputs": [],
      "metadata": {
        "datalore": {
          "node_id": "AlYkiwHK5HWuVKBPZBPTuj",
          "type": "CODE",
          "hide_input_from_viewers": true,
          "hide_output_from_viewers": true
        },
        "id": "L6c5EwkDVTGo"
      }
    },
    {
      "cell_type": "code",
      "source": [
        "# Define the input string\n",
        "s = \"I am a Python developer and currently working on a project to classify mails\"\n",
        "\n",
        "# Split the input string into individual words\n",
        "words = s.split()\n",
        "\n",
        "# Calculate the frequency of each word\n",
        "word_counts = {}\n",
        "for word in words:\n",
        "    if word in word_counts:\n",
        "        word_counts[word] += 1\n",
        "    else:\n",
        "        word_counts[word] = 1\n",
        "\n",
        "# Create the dataframe\n",
        "df = pd.DataFrame({'Word': list(word_counts.keys()), 'Frequency': list(word_counts.values())})\n",
        "print(df)"
      ],
      "execution_count": 34,
      "outputs": [
        {
          "output_type": "stream",
          "name": "stdout",
          "text": [
            "         Word  Frequency\n",
            "0           I          1\n",
            "1          am          1\n",
            "2           a          2\n",
            "3      Python          1\n",
            "4   developer          1\n",
            "5         and          1\n",
            "6   currently          1\n",
            "7     working          1\n",
            "8          on          1\n",
            "9     project          1\n",
            "10         to          1\n",
            "11   classify          1\n",
            "12      mails          1\n"
          ]
        }
      ],
      "metadata": {
        "datalore": {
          "node_id": "egNNvx9SUBtWQyfbiO2Nea",
          "type": "CODE",
          "hide_input_from_viewers": true,
          "hide_output_from_viewers": true
        },
        "id": "aJczuI3PVTGo",
        "colab": {
          "base_uri": "https://localhost:8080/"
        },
        "outputId": "0b5e6d5e-70cf-4555-a911-30d689d6a685"
      }
    }
  ],
  "metadata": {
    "kernelspec": {
      "display_name": "Python",
      "language": "python",
      "name": "python"
    },
    "datalore": {
      "computation_mode": "JUPYTER",
      "package_manager": "pip",
      "base_environment": "default",
      "packages": [],
      "report_row_ids": [],
      "version": 3
    },
    "colab": {
      "provenance": []
    }
  },
  "nbformat": 4,
  "nbformat_minor": 0
}